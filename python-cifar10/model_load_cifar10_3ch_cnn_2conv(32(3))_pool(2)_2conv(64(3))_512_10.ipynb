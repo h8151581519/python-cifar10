{
 "cells": [
  {
   "cell_type": "code",
   "execution_count": 1,
   "metadata": {},
   "outputs": [],
   "source": [
    "import matplotlib.pyplot as plt\n",
    "import numpy as np"
   ]
  },
  {
   "cell_type": "code",
   "execution_count": 2,
   "metadata": {},
   "outputs": [],
   "source": [
    "from dl_lib import Model, OneHot\n",
    "from Cifar10 import cifar10_load_train_data, cifar10_load_test_data"
   ]
  },
  {
   "cell_type": "code",
   "execution_count": 3,
   "metadata": {},
   "outputs": [
    {
     "name": "stdout",
     "output_type": "stream",
     "text": [
      "images shape: (50000, 32, 32, 3)\n",
      "labels shape: (50000, 1)\n",
      "images shape: (10000, 32, 32, 3)\n",
      "labels shape: (10000, 1)\n"
     ]
    }
   ],
   "source": [
    "dataset_dir_path = './dataset/cifar-10-batches-py/'\n",
    "is_cvt_gray = False\n",
    "train_imgs, train_labs = cifar10_load_train_data(dataset_dir_path, is_to_gray=is_cvt_gray)\n",
    "test_imgs, test_labs = cifar10_load_test_data(dataset_dir_path, is_to_gray=is_cvt_gray)"
   ]
  },
  {
   "cell_type": "code",
   "execution_count": 4,
   "metadata": {},
   "outputs": [
    {
     "name": "stdout",
     "output_type": "stream",
     "text": [
      "train_x (50000, 32, 32, 3)\n",
      "test_x (10000, 32, 32, 3)\n",
      "train_y (50000, 10, 1)\n",
      "test_y (10000, 10, 1)\n"
     ]
    }
   ],
   "source": [
    "### model x\n",
    "train_x, test_x = train_imgs, test_imgs\n",
    "### model y (labels one hot encoding)\n",
    "onehot = OneHot(np.arange(0,10))\n",
    "train_y, test_y = onehot.encoding(train_labs), onehot.encoding(test_labs)\n",
    "print('train_x', train_x.shape)\n",
    "print('test_x', test_x.shape)\n",
    "print('train_y', train_y.shape)\n",
    "print('test_y', test_y.shape)"
   ]
  },
  {
   "cell_type": "code",
   "execution_count": 5,
   "metadata": {},
   "outputs": [],
   "source": [
    "### 讀取模型\n",
    "cnn_model = Model.load('./cifar10_ch3_conv2_p1_conv2_p1_h512_10.model')"
   ]
  },
  {
   "cell_type": "code",
   "execution_count": 6,
   "metadata": {},
   "outputs": [
    {
     "name": "stdout",
     "output_type": "stream",
     "text": [
      "    evaluate[========================>] acc:73.10, loss:1.1527\n",
      "cnn_model: (0.7309754430618401, 1.1527368441178498)\n"
     ]
    }
   ],
   "source": [
    "### 模組評估\n",
    "print('cnn_model:', cnn_model.evaluate(test_x, test_y))"
   ]
  },
  {
   "cell_type": "code",
   "execution_count": 7,
   "metadata": {},
   "outputs": [
    {
     "name": "stdout",
     "output_type": "stream",
     "text": [
      "實際: [3 8 8 0 6 6 1 6 3 1]\n",
      "cnn_model預測: [3 8 8 8 6 6 1 6 3 1]\n"
     ]
    }
   ],
   "source": [
    "### 實際\n",
    "original = onehot.decoding(test_y)\n",
    "### cnn_model預測\n",
    "cnn_prediction = cnn_model.predict(test_x[:10])\n",
    "cnn_prediction = onehot.decoding(cnn_prediction)\n",
    "\n",
    "print('實際:', original[:10])\n",
    "print('cnn_model預測:', cnn_prediction)"
   ]
  },
  {
   "cell_type": "code",
   "execution_count": 8,
   "metadata": {},
   "outputs": [
    {
     "name": "stdout",
     "output_type": "stream",
     "text": [
      "    get_diff[========================>] 2691\n",
      "cnn_model預測失誤總數: 2691\n"
     ]
    }
   ],
   "source": [
    "### cnn_model 實際與預測不同\n",
    "diff_index = cnn_model.get_diff(test_x, test_y)\n",
    "print('cnn_model預測失誤總數:', len(diff_index))"
   ]
  },
  {
   "cell_type": "code",
   "execution_count": null,
   "metadata": {},
   "outputs": [],
   "source": []
  }
 ],
 "metadata": {
  "kernelspec": {
   "display_name": "Python 3",
   "language": "python",
   "name": "python3"
  },
  "language_info": {
   "codemirror_mode": {
    "name": "ipython",
    "version": 3
   },
   "file_extension": ".py",
   "mimetype": "text/x-python",
   "name": "python",
   "nbconvert_exporter": "python",
   "pygments_lexer": "ipython3",
   "version": "3.7.5"
  }
 },
 "nbformat": 4,
 "nbformat_minor": 4
}
